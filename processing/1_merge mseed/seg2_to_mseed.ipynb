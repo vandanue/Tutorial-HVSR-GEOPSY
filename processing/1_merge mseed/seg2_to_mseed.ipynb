{
 "cells": [
  {
   "cell_type": "markdown",
   "metadata": {},
   "source": [
    "## Konversi SEG2 ke MiniSEED\n",
    "Author: Annora Vandanu Erlangga"
   ]
  },
  {
   "cell_type": "markdown",
   "metadata": {},
   "source": [
    "#### 1. Import library\n",
    "Library yang digunakan adalah obspy, os, dan glob\n",
    "- Menggunakan `obspy` untuk membaca file `.seg2` dan menyimpan ke format `.mseed`\n",
    "- Menggunakan `glob.glob()` untuk mencari seluruh file `.seg2` dalam folder target"
   ]
  },
  {
   "cell_type": "code",
   "execution_count": 39,
   "metadata": {},
   "outputs": [],
   "source": [
    "from obspy.core import read, Stream\n",
    "import os\n",
    "import glob"
   ]
  },
  {
   "cell_type": "code",
   "execution_count": 40,
   "metadata": {},
   "outputs": [],
   "source": [
    "folder_path = r'D:\\Kulon Progo 2025\\data\\uT12'\n",
    "files = glob.glob(os.path.join(folder_path, '*.seg2'))"
   ]
  },
  {
   "cell_type": "code",
   "execution_count": 41,
   "metadata": {},
   "outputs": [
    {
     "name": "stdout",
     "output_type": "stream",
     "text": [
      "['D:\\\\Kulon Progo 2025\\\\data\\\\uT12\\\\20241022_145447299.WIT.3c.tst.0.seg2', 'D:\\\\Kulon Progo 2025\\\\data\\\\uT12\\\\20241022_145501000.WIT.3c.cont.0.seg2', 'D:\\\\Kulon Progo 2025\\\\data\\\\uT12\\\\20241022_145601000.WIT.3c.cont.0.seg2', 'D:\\\\Kulon Progo 2025\\\\data\\\\uT12\\\\20241022_145701000.WIT.3c.cont.0.seg2', 'D:\\\\Kulon Progo 2025\\\\data\\\\uT12\\\\20241022_145801000.WIT.3c.cont.0.seg2', 'D:\\\\Kulon Progo 2025\\\\data\\\\uT12\\\\20241022_145901000.WIT.3c.cont.0.seg2', 'D:\\\\Kulon Progo 2025\\\\data\\\\uT12\\\\20241022_150001000.WIT.3c.cont.0.seg2', 'D:\\\\Kulon Progo 2025\\\\data\\\\uT12\\\\20241022_150101000.WIT.3c.cont.0.seg2', 'D:\\\\Kulon Progo 2025\\\\data\\\\uT12\\\\20241022_150201000.WIT.3c.cont.0.seg2', 'D:\\\\Kulon Progo 2025\\\\data\\\\uT12\\\\20241022_150301000.WIT.3c.cont.0.seg2', 'D:\\\\Kulon Progo 2025\\\\data\\\\uT12\\\\20241022_150401000.WIT.3c.cont.0.seg2', 'D:\\\\Kulon Progo 2025\\\\data\\\\uT12\\\\20241022_150501000.WIT.3c.cont.0.seg2', 'D:\\\\Kulon Progo 2025\\\\data\\\\uT12\\\\20241022_150601000.WIT.3c.cont.0.seg2', 'D:\\\\Kulon Progo 2025\\\\data\\\\uT12\\\\20241022_150701000.WIT.3c.cont.0.seg2', 'D:\\\\Kulon Progo 2025\\\\data\\\\uT12\\\\20241022_150801000.WIT.3c.cont.0.seg2', 'D:\\\\Kulon Progo 2025\\\\data\\\\uT12\\\\20241022_150901000.WIT.3c.cont.0.seg2', 'D:\\\\Kulon Progo 2025\\\\data\\\\uT12\\\\20241022_151001000.WIT.3c.cont.0.seg2', 'D:\\\\Kulon Progo 2025\\\\data\\\\uT12\\\\20241022_151101000.WIT.3c.cont.0.seg2', 'D:\\\\Kulon Progo 2025\\\\data\\\\uT12\\\\20241022_151201000.WIT.3c.cont.0.seg2', 'D:\\\\Kulon Progo 2025\\\\data\\\\uT12\\\\20241022_151301000.WIT.3c.cont.0.seg2', 'D:\\\\Kulon Progo 2025\\\\data\\\\uT12\\\\20241022_151401000.WIT.3c.cont.0.seg2', 'D:\\\\Kulon Progo 2025\\\\data\\\\uT12\\\\20241022_151501000.WIT.3c.cont.0.seg2', 'D:\\\\Kulon Progo 2025\\\\data\\\\uT12\\\\20241022_151601000.WIT.3c.cont.0.seg2', 'D:\\\\Kulon Progo 2025\\\\data\\\\uT12\\\\20241022_151701000.WIT.3c.cont.0.seg2', 'D:\\\\Kulon Progo 2025\\\\data\\\\uT12\\\\20241022_151801000.WIT.3c.cont.0.seg2', 'D:\\\\Kulon Progo 2025\\\\data\\\\uT12\\\\20241022_151901000.WIT.3c.cont.0.seg2', 'D:\\\\Kulon Progo 2025\\\\data\\\\uT12\\\\20241022_152001000.WIT.3c.cont.0.seg2', 'D:\\\\Kulon Progo 2025\\\\data\\\\uT12\\\\20241022_152101000.WIT.3c.cont.0.seg2', 'D:\\\\Kulon Progo 2025\\\\data\\\\uT12\\\\20241022_152201000.WIT.3c.cont.0.seg2', 'D:\\\\Kulon Progo 2025\\\\data\\\\uT12\\\\20241022_152301000.WIT.3c.cont.0.seg2', 'D:\\\\Kulon Progo 2025\\\\data\\\\uT12\\\\20241022_152401000.WIT.3c.cont.0.seg2', 'D:\\\\Kulon Progo 2025\\\\data\\\\uT12\\\\20241022_152501000.WIT.3c.cont.0.seg2', 'D:\\\\Kulon Progo 2025\\\\data\\\\uT12\\\\20241022_152601000.WIT.3c.cont.0.seg2', 'D:\\\\Kulon Progo 2025\\\\data\\\\uT12\\\\20241022_152701000.WIT.3c.cont.0.seg2', 'D:\\\\Kulon Progo 2025\\\\data\\\\uT12\\\\20241022_152801000.WIT.3c.cont.0.seg2', 'D:\\\\Kulon Progo 2025\\\\data\\\\uT12\\\\20241022_152901000.WIT.3c.cont.0.seg2', 'D:\\\\Kulon Progo 2025\\\\data\\\\uT12\\\\20241022_153001000.WIT.3c.cont.0.seg2', 'D:\\\\Kulon Progo 2025\\\\data\\\\uT12\\\\20241022_153101000.WIT.3c.cont.0.seg2', 'D:\\\\Kulon Progo 2025\\\\data\\\\uT12\\\\20241022_153201000.WIT.3c.cont.0.seg2', 'D:\\\\Kulon Progo 2025\\\\data\\\\uT12\\\\20241022_153301000.WIT.3c.cont.0.seg2', 'D:\\\\Kulon Progo 2025\\\\data\\\\uT12\\\\20241022_153401000.WIT.3c.cont.0.seg2', 'D:\\\\Kulon Progo 2025\\\\data\\\\uT12\\\\20241022_153501000.WIT.3c.cont.0.seg2', 'D:\\\\Kulon Progo 2025\\\\data\\\\uT12\\\\20241022_153601000.WIT.3c.cont.0.seg2', 'D:\\\\Kulon Progo 2025\\\\data\\\\uT12\\\\20241022_153701000.WIT.3c.cont.0.seg2', 'D:\\\\Kulon Progo 2025\\\\data\\\\uT12\\\\20241022_153801000.WIT.3c.cont.0.seg2', 'D:\\\\Kulon Progo 2025\\\\data\\\\uT12\\\\20241022_153901000.WIT.3c.cont.0.seg2', 'D:\\\\Kulon Progo 2025\\\\data\\\\uT12\\\\20241022_154001000.WIT.3c.cont.0.seg2', 'D:\\\\Kulon Progo 2025\\\\data\\\\uT12\\\\20241022_154101000.WIT.3c.cont.0.seg2', 'D:\\\\Kulon Progo 2025\\\\data\\\\uT12\\\\20241022_154201000.WIT.3c.cont.0.seg2', 'D:\\\\Kulon Progo 2025\\\\data\\\\uT12\\\\20241022_154301000.WIT.3c.cont.0.seg2', 'D:\\\\Kulon Progo 2025\\\\data\\\\uT12\\\\20241022_154401000.WIT.3c.cont.0.seg2', 'D:\\\\Kulon Progo 2025\\\\data\\\\uT12\\\\20241022_154501000.WIT.3c.cont.0.seg2', 'D:\\\\Kulon Progo 2025\\\\data\\\\uT12\\\\20241022_154601000.WIT.3c.cont.0.seg2', 'D:\\\\Kulon Progo 2025\\\\data\\\\uT12\\\\20241022_154701000.WIT.3c.cont.0.seg2', 'D:\\\\Kulon Progo 2025\\\\data\\\\uT12\\\\20241022_154801000.WIT.3c.cont.0.seg2', 'D:\\\\Kulon Progo 2025\\\\data\\\\uT12\\\\20241022_154901000.WIT.3c.cont.0.seg2', 'D:\\\\Kulon Progo 2025\\\\data\\\\uT12\\\\20241022_155001000.WIT.3c.cont.0.seg2', 'D:\\\\Kulon Progo 2025\\\\data\\\\uT12\\\\20241022_155101000.WIT.3c.cont.0.seg2', 'D:\\\\Kulon Progo 2025\\\\data\\\\uT12\\\\20241022_155201000.WIT.3c.cont.0.seg2', 'D:\\\\Kulon Progo 2025\\\\data\\\\uT12\\\\20241022_155301000.WIT.3c.cont.0.seg2', 'D:\\\\Kulon Progo 2025\\\\data\\\\uT12\\\\20241022_155401000.WIT.3c.cont.0.seg2', 'D:\\\\Kulon Progo 2025\\\\data\\\\uT12\\\\20241022_155501000.WIT.3c.cont.0.seg2', 'D:\\\\Kulon Progo 2025\\\\data\\\\uT12\\\\20241022_155601000.WIT.3c.cont.0.seg2', 'D:\\\\Kulon Progo 2025\\\\data\\\\uT12\\\\20241022_155701000.WIT.3c.cont.0.seg2', 'D:\\\\Kulon Progo 2025\\\\data\\\\uT12\\\\20241022_155801000.WIT.3c.cont.0.seg2', 'D:\\\\Kulon Progo 2025\\\\data\\\\uT12\\\\20241022_155901000.WIT.3c.cont.0.seg2', 'D:\\\\Kulon Progo 2025\\\\data\\\\uT12\\\\20241022_160001000.WIT.3c.cont.0.seg2', 'D:\\\\Kulon Progo 2025\\\\data\\\\uT12\\\\20241022_160101000.WIT.3c.cont.0.seg2', 'D:\\\\Kulon Progo 2025\\\\data\\\\uT12\\\\20241022_160201000.WIT.3c.cont.0.seg2', 'D:\\\\Kulon Progo 2025\\\\data\\\\uT12\\\\20241022_160301000.WIT.3c.cont.0.seg2', 'D:\\\\Kulon Progo 2025\\\\data\\\\uT12\\\\20241022_160401000.WIT.3c.cont.0.seg2', 'D:\\\\Kulon Progo 2025\\\\data\\\\uT12\\\\20241022_160501000.WIT.3c.cont.0.seg2', 'D:\\\\Kulon Progo 2025\\\\data\\\\uT12\\\\20241022_160601000.WIT.3c.cont.0.seg2', 'D:\\\\Kulon Progo 2025\\\\data\\\\uT12\\\\20241022_160701000.WIT.3c.cont.0.seg2', 'D:\\\\Kulon Progo 2025\\\\data\\\\uT12\\\\20241022_160801000.WIT.3c.cont.0.seg2', 'D:\\\\Kulon Progo 2025\\\\data\\\\uT12\\\\20241022_160901000.WIT.3c.cont.0.seg2']\n"
     ]
    }
   ],
   "source": [
    "print(files)"
   ]
  },
  {
   "cell_type": "markdown",
   "metadata": {},
   "source": [
    "#### 2. Pembersihan file\n",
    "Menghapus file pertama dan terakhir dalam list karena file pertama adalah testing/kalibrasi dari alat"
   ]
  },
  {
   "cell_type": "code",
   "execution_count": 42,
   "metadata": {},
   "outputs": [],
   "source": [
    "del files[0]\n",
    "del files[-1]\n",
    "data=[None]*len(files)"
   ]
  },
  {
   "cell_type": "markdown",
   "metadata": {},
   "source": [
    "#### 3. Membaca dan Menggabungkan Data\n",
    "- Setiap file `.seg2` memiliki 3 trace (komponen).\n",
    "- Menggabungkan trace dari seluruh file untuk masing-masing komponen:\n",
    "    - `x_comp` untuk timur-barat (EHE)\n",
    "    - `y_comp` untuk utara-selatan (EHN)\n",
    "    - `z_comp` untuk vertikal (EHZ)\n",
    "\n",
    "[Cek manual book SUMMIT M VIPA]"
   ]
  },
  {
   "cell_type": "code",
   "execution_count": 43,
   "metadata": {},
   "outputs": [],
   "source": [
    "for i in range(len(files)):\n",
    "    data[i]=read(files[i])\n",
    "\n",
    "x_comp=data[0].traces[0]\n",
    "y_comp=data[0].traces[1]\n",
    "z_comp=data[0].traces[2]\n",
    "\n",
    "for j in range(1,len(files)):\n",
    "    x_comp+=data[j].traces[0]\n",
    "    y_comp+=data[j].traces[1]\n",
    "    z_comp+=data[j].traces[2]"
   ]
  },
  {
   "cell_type": "markdown",
   "metadata": {},
   "source": [
    "#### 4. Membuat Stream Gabungan\n",
    "Ketiga komponen digabung jadi satu `Stream` lalu disortir berdasarkan waktu"
   ]
  },
  {
   "cell_type": "code",
   "execution_count": 44,
   "metadata": {},
   "outputs": [],
   "source": [
    "x_comp.stats.channel = \"EHE\"  # Komponen timur-barat\n",
    "y_comp.stats.channel = \"EHN\"  # Komponen utara-selatan\n",
    "z_comp.stats.channel = \"EHZ\"  # Komponen vertikal\n",
    "\n",
    "# Gabungkan ketiga komponen menjadi satu Stream\n",
    "combined_stream = Stream(traces=[x_comp, y_comp, z_comp])"
   ]
  },
  {
   "cell_type": "markdown",
   "metadata": {},
   "source": [
    "#### 5. Output\n",
    "File hasil akhir adalah 1 buah file `.mseed` yang berisi 3 komponen dari seluruh data `.seg2` dalam folder"
   ]
  },
  {
   "cell_type": "code",
   "execution_count": 45,
   "metadata": {},
   "outputs": [
    {
     "name": "stdout",
     "output_type": "stream",
     "text": [
      "File MSEED gabungan telah disimpan di: D:\\Kulon Progo 2025\\data\\uT12\\uT12_merge3comps.mseed\n"
     ]
    }
   ],
   "source": [
    "# Ambil nama folder terakhir dari path sebagai nama file\n",
    "folder_name = os.path.basename(folder_path)\n",
    "\n",
    "output_filename = f\"{folder_name}_merge3comps.mseed\"\n",
    "output_path = os.path.join(folder_path, output_filename)\n",
    "\n",
    "# Simpan stream gabungan dalam format MiniSEED\n",
    "combined_stream.write(output_path, format='MSEED')\n",
    "print(f\"File MSEED gabungan telah disimpan di: {output_path}\")"
   ]
  }
 ],
 "metadata": {
  "kernelspec": {
   "display_name": "Python 3",
   "language": "python",
   "name": "python3"
  },
  "language_info": {
   "codemirror_mode": {
    "name": "ipython",
    "version": 3
   },
   "file_extension": ".py",
   "mimetype": "text/x-python",
   "name": "python",
   "nbconvert_exporter": "python",
   "pygments_lexer": "ipython3",
   "version": "3.13.0"
  }
 },
 "nbformat": 4,
 "nbformat_minor": 2
}
